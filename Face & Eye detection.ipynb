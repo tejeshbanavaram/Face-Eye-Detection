{
 "cells": [
  {
   "cell_type": "markdown",
   "id": "918c1b13-381b-4116-8132-b59d4c87263e",
   "metadata": {},
   "source": [
    "## Face & eye detection from Image"
   ]
  },
  {
   "cell_type": "code",
   "execution_count": 1,
   "id": "c834a16f-4648-424e-90a7-d777e46b70bd",
   "metadata": {},
   "outputs": [],
   "source": [
    "import numpy as np\n",
    "import cv2\n",
    "\n",
    "face = 'Trump.jpg'\n",
    "\n",
    "# frontal face classifier (XML file format) is loaded \n",
    "face_classifier = cv2.CascadeClassifier('Haarcascades/haarcascade_frontalface_default.xml')\n",
    "eye_classifier = cv2.CascadeClassifier('Haarcascades/haarcascade_eye.xml')\n",
    "\n",
    "\n",
    "#Load our image and then convert to gray scale\n",
    "image = cv2.imread('Images/'+face)\n",
    "image_gray = cv2.cvtColor(image,cv2.COLOR_BGR2GRAY)\n",
    "\n",
    "\n",
    "# Our classifier returns the ROI of the detected face as a tuple\n",
    "# It stores the top left coordinate and the bottom right coordiantes\n",
    "faces = face_classifier.detectMultiScale(image_gray, 1.3, 3)\n",
    "\n",
    "#when no face is detected, face classifier returns empty list\n",
    "\n",
    "if len(faces) == 0:\n",
    "    print(\"No Face detected\")\n",
    "    \n",
    "else:\n",
    "    #for loop for each face identified in the image to create box with dimensions received for the face.\n",
    "    for (x,y,w,h) in faces:\n",
    "        cv2.rectangle(image,(x,y),(x+w,y+h),(0,0,255),2)\n",
    "        roi_gray = image_gray[y:y+h, x:x+w]\n",
    "        roi_color = image[y:y+h, x:x+w]\n",
    "        eyes = eye_classifier.detectMultiScale(roi_gray)\n",
    "        for (ex,ey,ew,eh) in eyes:\n",
    "            cv2.rectangle(roi_color,(ex,ey),(ex+ew,ey+eh),(255,255,0),2)\n",
    "    \n",
    "    \n",
    "    #show image\n",
    "    cv2.imshow('Face detection',image)\n",
    "\n",
    "\n",
    "    #wait until any button is pressed\n",
    "    cv2.waitKey(0)    \n",
    "\n",
    "cv2.destroyAllWindows()   \n"
   ]
  },
  {
   "cell_type": "code",
   "execution_count": null,
   "id": "8e3861c8-a154-4704-b615-8c44bd209aca",
   "metadata": {},
   "outputs": [],
   "source": []
  },
  {
   "cell_type": "markdown",
   "id": "c597c20f-3502-465d-8551-eaded2923ea0",
   "metadata": {},
   "source": [
    "## Face & eye detection from videos"
   ]
  },
  {
   "cell_type": "code",
   "execution_count": 2,
   "id": "5318613b-3cc9-4a63-99a7-3635cdb64104",
   "metadata": {},
   "outputs": [],
   "source": [
    "import numpy as np\n",
    "import cv2\n",
    "\n",
    "# frontal face classifier (XML file format) is loaded \n",
    "face_classifier = cv2.CascadeClassifier('Haarcascades/haarcascade_frontalface_default.xml')\n",
    "eye_classifier = cv2.CascadeClassifier('Haarcascades/haarcascade_eye.xml')\n",
    "\n",
    "\n",
    "def face_detector(image,size=0.5):\n",
    "    \n",
    "    gray = cv2.cvtColor(image,cv2.COLOR_BGR2GRAY)\n",
    "    faces = face_classifier.detectMultiScale(gray,1.3,5)\n",
    "\n",
    "#when no face is detected, face classifier returns empty list\n",
    "\n",
    "    if len(faces) == 0:\n",
    "        return image\n",
    "    \n",
    "    else:\n",
    "        #for loop for each face identified in the image to create box with dimensions received for the face.\n",
    "        for (x,y,w,h) in faces:\n",
    "            x = x-50\n",
    "            y = y-50\n",
    "            w = w+50\n",
    "            h = h+50\n",
    "            cv2.rectangle(image,(x,y),(x+w,y+w),(0,0,255),2)\n",
    "            roi_gray = gray[y:y+h, x:x+w]\n",
    "            roi_color = image[y:y+h, x:x+w]\n",
    "            eyes = eye_classifier.detectMultiScale(roi_gray)\n",
    "            for (ex,ey,ew,eh) in eyes:\n",
    "                cv2.rectangle(roi_color,(ex,ey),(ex+ew,ey+eh),(255,0,0),2)\n",
    "        roi_color = cv2.flip(roi_color,1)\n",
    "        return image\n",
    "\n",
    "cap = cv2.VideoCapture(0)\n",
    "\n",
    "while True:\n",
    "    \n",
    "    ret, frame = cap.read()\n",
    "    \n",
    "    cv2.imshow('Our face detector',face_detector(frame))\n",
    "        \n",
    "    #wait until any button is pressed\n",
    "    if cv2.waitKey(1) == 13:\n",
    "        break\n",
    "        \n",
    "cap.release()        \n",
    "cv2.destroyAllWindows()   \n"
   ]
  },
  {
   "cell_type": "code",
   "execution_count": null,
   "id": "2a176894-da3b-4c8c-812a-998684c95037",
   "metadata": {},
   "outputs": [],
   "source": []
  }
 ],
 "metadata": {
  "kernelspec": {
   "display_name": "Python 3",
   "language": "python",
   "name": "python3"
  },
  "language_info": {
   "codemirror_mode": {
    "name": "ipython",
    "version": 3
   },
   "file_extension": ".py",
   "mimetype": "text/x-python",
   "name": "python",
   "nbconvert_exporter": "python",
   "pygments_lexer": "ipython3",
   "version": "3.9.5"
  }
 },
 "nbformat": 4,
 "nbformat_minor": 5
}
